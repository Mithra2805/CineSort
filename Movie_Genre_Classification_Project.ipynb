{
  "cells": [
    {
      "cell_type": "markdown",
      "id": "fcad3d9d",
      "metadata": {
        "id": "fcad3d9d",
        "papermill": {
          "duration": 0.005274,
          "end_time": "2024-10-07T16:34:11.999473",
          "exception": false,
          "start_time": "2024-10-07T16:34:11.994199",
          "status": "completed"
        },
        "tags": []
      },
      "source": [
        "# Importing the libraries"
      ]
    },
    {
      "cell_type": "code",
      "execution_count": null,
      "id": "1b4d89bc",
      "metadata": {
        "execution": {
          "iopub.execute_input": "2024-10-07T16:34:12.010398Z",
          "iopub.status.busy": "2024-10-07T16:34:12.009997Z",
          "iopub.status.idle": "2024-10-07T16:34:12.918487Z",
          "shell.execute_reply": "2024-10-07T16:34:12.917392Z"
        },
        "id": "1b4d89bc",
        "papermill": {
          "duration": 0.917227,
          "end_time": "2024-10-07T16:34:12.921360",
          "exception": false,
          "start_time": "2024-10-07T16:34:12.004133",
          "status": "completed"
        },
        "tags": []
      },
      "outputs": [],
      "source": [
        "import numpy as np\n",
        "import matplotlib.pyplot as plt\n",
        "import pandas as pd"
      ]
    },
    {
      "cell_type": "markdown",
      "id": "897e514f",
      "metadata": {
        "id": "897e514f",
        "papermill": {
          "duration": 0.004274,
          "end_time": "2024-10-07T16:34:12.930663",
          "exception": false,
          "start_time": "2024-10-07T16:34:12.926389",
          "status": "completed"
        },
        "tags": []
      },
      "source": [
        "# Import Dataset"
      ]
    },
    {
      "cell_type": "code",
      "execution_count": null,
      "id": "3d8ee5d9",
      "metadata": {
        "execution": {
          "iopub.execute_input": "2024-10-07T16:34:12.941385Z",
          "iopub.status.busy": "2024-10-07T16:34:12.940871Z",
          "iopub.status.idle": "2024-10-07T16:34:13.906533Z",
          "shell.execute_reply": "2024-10-07T16:34:13.905347Z"
        },
        "id": "3d8ee5d9",
        "outputId": "cc940296-92ed-41d8-ad7d-47a457ebe38d",
        "papermill": {
          "duration": 0.974173,
          "end_time": "2024-10-07T16:34:13.909295",
          "exception": false,
          "start_time": "2024-10-07T16:34:12.935122",
          "status": "completed"
        },
        "tags": [],
        "colab": {
          "base_uri": "https://localhost:8080/"
        }
      },
      "outputs": [
        {
          "output_type": "stream",
          "name": "stdout",
          "text": [
            "                                                  Title          Genre  \\\n",
            "1                         Oscar et la dame rose (2009)          drama    \n",
            "2                                         Cupid (1997)       thriller    \n",
            "3                     Young, Wild and Wonderful (1980)          adult    \n",
            "4                                The Secret Sin (1915)          drama    \n",
            "5                               The Unrecovered (2007)          drama    \n",
            "...                                                 ...            ...   \n",
            "3174                                    Frustré (2013)          crime    \n",
            "3175   The Deafening Silence of a Very Bright Light ...         drama    \n",
            "3176   Whiskey and Apple Pie: A Journey Across Ameri...   documentary    \n",
            "3177                              Not Your Life (2013)    documentary    \n",
            "3178                                  Los Siete (2010)        western    \n",
            "\n",
            "                                            Description  \n",
            "1      Listening in to a conversation between his do...  \n",
            "2      A brother and sister with a past incestuous r...  \n",
            "3      As the bus empties the students for their fie...  \n",
            "4      To help their unemployed father make ends mee...  \n",
            "5      The film's title refers not only to the un-re...  \n",
            "...                                                 ...  \n",
            "3174   Fabrice Lombard has neither the means nor the...  \n",
            "3175   Photographer Barnard Jacobs is dying. What se...  \n",
            "3176   Whiskey and Apple Pie is a thought provoking ...  \n",
            "3177   Born to a Nepalese father and an Israeli moth...  \n",
            "3178   Seven bandits are threatening the inhabitants...  \n",
            "\n",
            "[3178 rows x 3 columns]\n"
          ]
        },
        {
          "output_type": "stream",
          "name": "stderr",
          "text": [
            "<ipython-input-2-c58316cf71a2>:3: ParserWarning: Falling back to the 'python' engine because the 'c' engine does not support regex separators (separators > 1 char and different from '\\s+' are interpreted as regex); you can avoid this warning by specifying engine='python'.\n",
            "  dataset=pd.read_csv(r'/content/train_data.txt',delimiter=':::',header=None,index_col=0,names=columns)\n"
          ]
        }
      ],
      "source": [
        "columns = [ 'Title' , 'Genre' , 'Description']\n",
        "column = ['Title' , 'Description']\n",
        "dataset=pd.read_csv(r'/content/train_data.txt',delimiter=':::',header=None,index_col=0,names=columns)\n",
        "print(dataset)"
      ]
    },
    {
      "cell_type": "markdown",
      "id": "118f741c",
      "metadata": {
        "id": "118f741c",
        "papermill": {
          "duration": 0.004401,
          "end_time": "2024-10-07T16:34:13.918876",
          "exception": false,
          "start_time": "2024-10-07T16:34:13.914475",
          "status": "completed"
        },
        "tags": []
      },
      "source": [
        "# DATA PREPROCESSING"
      ]
    },
    {
      "cell_type": "code",
      "execution_count": null,
      "id": "17f62ce2",
      "metadata": {
        "execution": {
          "iopub.execute_input": "2024-10-07T16:34:13.931212Z",
          "iopub.status.busy": "2024-10-07T16:34:13.930822Z",
          "iopub.status.idle": "2024-10-07T16:34:14.041819Z",
          "shell.execute_reply": "2024-10-07T16:34:14.040499Z"
        },
        "id": "17f62ce2",
        "papermill": {
          "duration": 0.120755,
          "end_time": "2024-10-07T16:34:14.044720",
          "exception": false,
          "start_time": "2024-10-07T16:34:13.923965",
          "status": "completed"
        },
        "tags": []
      },
      "outputs": [],
      "source": [
        "dataset.loc[:,'Description'] = dataset['Description'].astype(str).str.lower()"
      ]
    },
    {
      "cell_type": "code",
      "execution_count": null,
      "id": "138be373",
      "metadata": {
        "execution": {
          "iopub.execute_input": "2024-10-07T16:34:14.055982Z",
          "iopub.status.busy": "2024-10-07T16:34:14.055558Z",
          "iopub.status.idle": "2024-10-07T16:34:14.071663Z",
          "shell.execute_reply": "2024-10-07T16:34:14.070356Z"
        },
        "id": "138be373",
        "outputId": "28ac27fa-3627-45fe-a3ee-5c7544e523ed",
        "papermill": {
          "duration": 0.024454,
          "end_time": "2024-10-07T16:34:14.074064",
          "exception": false,
          "start_time": "2024-10-07T16:34:14.049610",
          "status": "completed"
        },
        "tags": [],
        "colab": {
          "base_uri": "https://localhost:8080/"
        }
      },
      "outputs": [
        {
          "output_type": "stream",
          "name": "stdout",
          "text": [
            "              Genre                                        Description\n",
            "1            drama    listening in to a conversation between his do...\n",
            "2         thriller    a brother and sister with a past incestuous r...\n",
            "3            adult    as the bus empties the students for their fie...\n",
            "4            drama    to help their unemployed father make ends mee...\n",
            "5            drama    the film's title refers not only to the un-re...\n",
            "...             ...                                                ...\n",
            "3174         crime    fabrice lombard has neither the means nor the...\n",
            "3175         drama    photographer barnard jacobs is dying. what se...\n",
            "3176   documentary    whiskey and apple pie is a thought provoking ...\n",
            "3177   documentary    born to a nepalese father and an israeli moth...\n",
            "3178       western    seven bandits are threatening the inhabitants...\n",
            "\n",
            "[3178 rows x 2 columns]\n"
          ]
        }
      ],
      "source": [
        "dataset.drop('Title',axis=1,inplace=True)\n",
        "print(dataset)"
      ]
    },
    {
      "cell_type": "code",
      "source": [
        "dataset.columns"
      ],
      "metadata": {
        "colab": {
          "base_uri": "https://localhost:8080/"
        },
        "id": "UWLImy5s9pvw",
        "outputId": "8a1940df-c16d-433f-a72b-c3175a025e27"
      },
      "id": "UWLImy5s9pvw",
      "execution_count": null,
      "outputs": [
        {
          "output_type": "execute_result",
          "data": {
            "text/plain": [
              "Index(['Genre', 'Description'], dtype='object')"
            ]
          },
          "metadata": {},
          "execution_count": 17
        }
      ]
    },
    {
      "cell_type": "code",
      "execution_count": null,
      "id": "32184455",
      "metadata": {
        "execution": {
          "iopub.execute_input": "2024-10-07T16:34:14.085489Z",
          "iopub.status.busy": "2024-10-07T16:34:14.085042Z",
          "iopub.status.idle": "2024-10-07T16:34:14.210967Z",
          "shell.execute_reply": "2024-10-07T16:34:14.209841Z"
        },
        "id": "32184455",
        "outputId": "5dc0f7a4-44b1-4df3-e49e-387243da1f5d",
        "papermill": {
          "duration": 0.134624,
          "end_time": "2024-10-07T16:34:14.213498",
          "exception": false,
          "start_time": "2024-10-07T16:34:14.078874",
          "status": "completed"
        },
        "tags": [],
        "colab": {
          "base_uri": "https://localhost:8080/"
        }
      },
      "outputs": [
        {
          "output_type": "stream",
          "name": "stdout",
          "text": [
            "              Genre                                        Description\n",
            "1            drama    listening in to a conversation between his do...\n",
            "2         thriller    a brother and sister with a past incestuous r...\n",
            "3            adult    as the bus empties the students for their fie...\n",
            "4            drama    to help their unemployed father make ends mee...\n",
            "5            drama    the film's title refers not only to the un-re...\n",
            "...             ...                                                ...\n",
            "3174         crime    fabrice lombard has neither the means nor the...\n",
            "3175         drama    photographer barnard jacobs is dying. what se...\n",
            "3176   documentary    whiskey and apple pie is a thought provoking ...\n",
            "3177   documentary    born to a nepalese father and an israeli moth...\n",
            "3178       western    seven bandits are threatening the inhabitants...\n",
            "\n",
            "[3177 rows x 2 columns]\n"
          ]
        }
      ],
      "source": [
        "dataset=dataset.drop_duplicates()\n",
        "print(dataset)"
      ]
    },
    {
      "cell_type": "code",
      "execution_count": null,
      "id": "531f9a20",
      "metadata": {
        "execution": {
          "iopub.execute_input": "2024-10-07T16:34:14.227123Z",
          "iopub.status.busy": "2024-10-07T16:34:14.226648Z",
          "iopub.status.idle": "2024-10-07T16:34:14.232011Z",
          "shell.execute_reply": "2024-10-07T16:34:14.230928Z"
        },
        "id": "531f9a20",
        "papermill": {
          "duration": 0.014769,
          "end_time": "2024-10-07T16:34:14.234336",
          "exception": false,
          "start_time": "2024-10-07T16:34:14.219567",
          "status": "completed"
        },
        "tags": []
      },
      "outputs": [],
      "source": [
        "x=dataset['Description'].values\n",
        "y=dataset['Genre'].values"
      ]
    },
    {
      "cell_type": "markdown",
      "id": "221694a9",
      "metadata": {
        "id": "221694a9",
        "papermill": {
          "duration": 0.004641,
          "end_time": "2024-10-07T16:34:14.244201",
          "exception": false,
          "start_time": "2024-10-07T16:34:14.239560",
          "status": "completed"
        },
        "tags": []
      },
      "source": [
        "# VECTORISING THE DATASET FOR TRAINING IT"
      ]
    },
    {
      "cell_type": "code",
      "execution_count": null,
      "id": "c58145b4",
      "metadata": {
        "execution": {
          "iopub.execute_input": "2024-10-07T16:34:14.255929Z",
          "iopub.status.busy": "2024-10-07T16:34:14.255481Z",
          "iopub.status.idle": "2024-10-07T16:34:21.377756Z",
          "shell.execute_reply": "2024-10-07T16:34:21.376513Z"
        },
        "id": "c58145b4",
        "outputId": "1ea0e1d7-b376-4545-c2b1-3f1294c7057e",
        "papermill": {
          "duration": 7.130989,
          "end_time": "2024-10-07T16:34:21.380280",
          "exception": false,
          "start_time": "2024-10-07T16:34:14.249291",
          "status": "completed"
        },
        "tags": [],
        "colab": {
          "base_uri": "https://localhost:8080/"
        }
      },
      "outputs": [
        {
          "output_type": "stream",
          "name": "stdout",
          "text": [
            "  (0, 14249)\t0.14087676259106963\n",
            "  (0, 12048)\t0.07740884815213707\n",
            "  (0, 24536)\t0.1912431248264908\n",
            "  (0, 5538)\t0.12665637233401492\n",
            "  (0, 2723)\t0.07155990943834077\n",
            "  (0, 11358)\t0.07371211972932858\n",
            "  (0, 7216)\t0.10653398686590294\n",
            "  (0, 1289)\t0.0887303150017714\n",
            "  (0, 17662)\t0.08933508800895097\n",
            "  (0, 10)\t0.10569649562388357\n",
            "  (0, 26897)\t0.07006174866150985\n",
            "  (0, 17091)\t0.06531116197551826\n",
            "  (0, 17302)\t0.26666527256500433\n",
            "  (0, 13919)\t0.09850252917561933\n",
            "  (0, 26466)\t0.06237917071057564\n",
            "  (0, 16737)\t0.12782901643338454\n",
            "  (0, 11002)\t0.0919845405343462\n",
            "  (0, 24274)\t0.10625877102684518\n",
            "  (0, 5735)\t0.12075437712295768\n",
            "  (0, 24115)\t0.0979326123471986\n",
            "  (0, 11329)\t0.05411051068651957\n",
            "  (0, 11076)\t0.12416258023525147\n",
            "  (0, 17141)\t0.06303532485271937\n",
            "  (0, 9098)\t0.09147610536682883\n",
            "  (0, 26402)\t0.11243598207696016\n",
            "  :\t:\n",
            "  (3176, 24266)\t0.1346512052670672\n",
            "  (3176, 17129)\t0.08995307982625454\n",
            "  (3176, 12710)\t0.10334080992762792\n",
            "  (3176, 26481)\t0.0891779261014569\n",
            "  (3176, 17318)\t0.11675204160909111\n",
            "  (3176, 16727)\t0.12762906647889738\n",
            "  (3176, 24288)\t0.10617142740659107\n",
            "  (3176, 24708)\t0.1411104352960576\n",
            "  (3176, 24317)\t0.1373833357886006\n",
            "  (3176, 8766)\t0.15645297524241\n",
            "  (3176, 13894)\t0.19301166513342924\n",
            "  (3176, 11825)\t0.18200715670070727\n",
            "  (3176, 24378)\t0.22760274950031023\n",
            "  (3176, 13402)\t0.17401916923332503\n",
            "  (3176, 24328)\t0.23432437843676243\n",
            "  (3176, 4517)\t0.20103845305083798\n",
            "  (3176, 9510)\t0.2492726163264902\n",
            "  (3176, 21666)\t0.19816425340989563\n",
            "  (3176, 13761)\t0.21265451161058246\n",
            "  (3176, 7022)\t0.21131374964195904\n",
            "  (3176, 21199)\t0.22371843486819293\n",
            "  (3176, 2284)\t0.2830534067380631\n",
            "  (3176, 12280)\t0.23194504382146852\n",
            "  (3176, 19113)\t0.2574992252797658\n",
            "  (3176, 21001)\t0.25315693095860753\n"
          ]
        }
      ],
      "source": [
        "from sklearn.feature_extraction.text import TfidfVectorizer\n",
        "vectorizer = TfidfVectorizer()\n",
        "x=vectorizer.fit_transform(x)\n",
        "print(x)"
      ]
    },
    {
      "cell_type": "markdown",
      "id": "b260ae64",
      "metadata": {
        "id": "b260ae64",
        "papermill": {
          "duration": 0.004775,
          "end_time": "2024-10-07T16:34:21.390192",
          "exception": false,
          "start_time": "2024-10-07T16:34:21.385417",
          "status": "completed"
        },
        "tags": []
      },
      "source": [
        "#SPLITTING DATASET INTO TRINING AND TESTING"
      ]
    },
    {
      "cell_type": "code",
      "execution_count": null,
      "id": "617c747f",
      "metadata": {
        "execution": {
          "iopub.execute_input": "2024-10-07T16:34:21.402497Z",
          "iopub.status.busy": "2024-10-07T16:34:21.401392Z",
          "iopub.status.idle": "2024-10-07T16:34:21.531098Z",
          "shell.execute_reply": "2024-10-07T16:34:21.529955Z"
        },
        "id": "617c747f",
        "papermill": {
          "duration": 0.138551,
          "end_time": "2024-10-07T16:34:21.533761",
          "exception": false,
          "start_time": "2024-10-07T16:34:21.395210",
          "status": "completed"
        },
        "tags": []
      },
      "outputs": [],
      "source": [
        "from sklearn.model_selection import train_test_split\n",
        "x_train,x_test,y_train,y_test=train_test_split(x,y,test_size=0.2,random_state=0)"
      ]
    },
    {
      "cell_type": "markdown",
      "id": "8b1fd529",
      "metadata": {
        "id": "8b1fd529",
        "papermill": {
          "duration": 0.004792,
          "end_time": "2024-10-07T16:34:21.543675",
          "exception": false,
          "start_time": "2024-10-07T16:34:21.538883",
          "status": "completed"
        },
        "tags": []
      },
      "source": [
        "# TRAINING THE DATASET ON LOGISTIC REGRESSION"
      ]
    },
    {
      "cell_type": "code",
      "execution_count": null,
      "id": "a09a03c3",
      "metadata": {
        "execution": {
          "iopub.execute_input": "2024-10-07T16:34:21.555505Z",
          "iopub.status.busy": "2024-10-07T16:34:21.555079Z",
          "iopub.status.idle": "2024-10-07T16:35:42.914067Z",
          "shell.execute_reply": "2024-10-07T16:35:42.912858Z"
        },
        "id": "a09a03c3",
        "outputId": "8ca35bfa-b34a-404e-b71e-1df8f5db6e16",
        "papermill": {
          "duration": 81.373444,
          "end_time": "2024-10-07T16:35:42.922215",
          "exception": false,
          "start_time": "2024-10-07T16:34:21.548771",
          "status": "completed"
        },
        "tags": [],
        "colab": {
          "base_uri": "https://localhost:8080/",
          "height": 80
        }
      },
      "outputs": [
        {
          "output_type": "execute_result",
          "data": {
            "text/plain": [
              "LogisticRegression(random_state=0)"
            ],
            "text/html": [
              "<style>#sk-container-id-1 {\n",
              "  /* Definition of color scheme common for light and dark mode */\n",
              "  --sklearn-color-text: black;\n",
              "  --sklearn-color-line: gray;\n",
              "  /* Definition of color scheme for unfitted estimators */\n",
              "  --sklearn-color-unfitted-level-0: #fff5e6;\n",
              "  --sklearn-color-unfitted-level-1: #f6e4d2;\n",
              "  --sklearn-color-unfitted-level-2: #ffe0b3;\n",
              "  --sklearn-color-unfitted-level-3: chocolate;\n",
              "  /* Definition of color scheme for fitted estimators */\n",
              "  --sklearn-color-fitted-level-0: #f0f8ff;\n",
              "  --sklearn-color-fitted-level-1: #d4ebff;\n",
              "  --sklearn-color-fitted-level-2: #b3dbfd;\n",
              "  --sklearn-color-fitted-level-3: cornflowerblue;\n",
              "\n",
              "  /* Specific color for light theme */\n",
              "  --sklearn-color-text-on-default-background: var(--sg-text-color, var(--theme-code-foreground, var(--jp-content-font-color1, black)));\n",
              "  --sklearn-color-background: var(--sg-background-color, var(--theme-background, var(--jp-layout-color0, white)));\n",
              "  --sklearn-color-border-box: var(--sg-text-color, var(--theme-code-foreground, var(--jp-content-font-color1, black)));\n",
              "  --sklearn-color-icon: #696969;\n",
              "\n",
              "  @media (prefers-color-scheme: dark) {\n",
              "    /* Redefinition of color scheme for dark theme */\n",
              "    --sklearn-color-text-on-default-background: var(--sg-text-color, var(--theme-code-foreground, var(--jp-content-font-color1, white)));\n",
              "    --sklearn-color-background: var(--sg-background-color, var(--theme-background, var(--jp-layout-color0, #111)));\n",
              "    --sklearn-color-border-box: var(--sg-text-color, var(--theme-code-foreground, var(--jp-content-font-color1, white)));\n",
              "    --sklearn-color-icon: #878787;\n",
              "  }\n",
              "}\n",
              "\n",
              "#sk-container-id-1 {\n",
              "  color: var(--sklearn-color-text);\n",
              "}\n",
              "\n",
              "#sk-container-id-1 pre {\n",
              "  padding: 0;\n",
              "}\n",
              "\n",
              "#sk-container-id-1 input.sk-hidden--visually {\n",
              "  border: 0;\n",
              "  clip: rect(1px 1px 1px 1px);\n",
              "  clip: rect(1px, 1px, 1px, 1px);\n",
              "  height: 1px;\n",
              "  margin: -1px;\n",
              "  overflow: hidden;\n",
              "  padding: 0;\n",
              "  position: absolute;\n",
              "  width: 1px;\n",
              "}\n",
              "\n",
              "#sk-container-id-1 div.sk-dashed-wrapped {\n",
              "  border: 1px dashed var(--sklearn-color-line);\n",
              "  margin: 0 0.4em 0.5em 0.4em;\n",
              "  box-sizing: border-box;\n",
              "  padding-bottom: 0.4em;\n",
              "  background-color: var(--sklearn-color-background);\n",
              "}\n",
              "\n",
              "#sk-container-id-1 div.sk-container {\n",
              "  /* jupyter's `normalize.less` sets `[hidden] { display: none; }`\n",
              "     but bootstrap.min.css set `[hidden] { display: none !important; }`\n",
              "     so we also need the `!important` here to be able to override the\n",
              "     default hidden behavior on the sphinx rendered scikit-learn.org.\n",
              "     See: https://github.com/scikit-learn/scikit-learn/issues/21755 */\n",
              "  display: inline-block !important;\n",
              "  position: relative;\n",
              "}\n",
              "\n",
              "#sk-container-id-1 div.sk-text-repr-fallback {\n",
              "  display: none;\n",
              "}\n",
              "\n",
              "div.sk-parallel-item,\n",
              "div.sk-serial,\n",
              "div.sk-item {\n",
              "  /* draw centered vertical line to link estimators */\n",
              "  background-image: linear-gradient(var(--sklearn-color-text-on-default-background), var(--sklearn-color-text-on-default-background));\n",
              "  background-size: 2px 100%;\n",
              "  background-repeat: no-repeat;\n",
              "  background-position: center center;\n",
              "}\n",
              "\n",
              "/* Parallel-specific style estimator block */\n",
              "\n",
              "#sk-container-id-1 div.sk-parallel-item::after {\n",
              "  content: \"\";\n",
              "  width: 100%;\n",
              "  border-bottom: 2px solid var(--sklearn-color-text-on-default-background);\n",
              "  flex-grow: 1;\n",
              "}\n",
              "\n",
              "#sk-container-id-1 div.sk-parallel {\n",
              "  display: flex;\n",
              "  align-items: stretch;\n",
              "  justify-content: center;\n",
              "  background-color: var(--sklearn-color-background);\n",
              "  position: relative;\n",
              "}\n",
              "\n",
              "#sk-container-id-1 div.sk-parallel-item {\n",
              "  display: flex;\n",
              "  flex-direction: column;\n",
              "}\n",
              "\n",
              "#sk-container-id-1 div.sk-parallel-item:first-child::after {\n",
              "  align-self: flex-end;\n",
              "  width: 50%;\n",
              "}\n",
              "\n",
              "#sk-container-id-1 div.sk-parallel-item:last-child::after {\n",
              "  align-self: flex-start;\n",
              "  width: 50%;\n",
              "}\n",
              "\n",
              "#sk-container-id-1 div.sk-parallel-item:only-child::after {\n",
              "  width: 0;\n",
              "}\n",
              "\n",
              "/* Serial-specific style estimator block */\n",
              "\n",
              "#sk-container-id-1 div.sk-serial {\n",
              "  display: flex;\n",
              "  flex-direction: column;\n",
              "  align-items: center;\n",
              "  background-color: var(--sklearn-color-background);\n",
              "  padding-right: 1em;\n",
              "  padding-left: 1em;\n",
              "}\n",
              "\n",
              "\n",
              "/* Toggleable style: style used for estimator/Pipeline/ColumnTransformer box that is\n",
              "clickable and can be expanded/collapsed.\n",
              "- Pipeline and ColumnTransformer use this feature and define the default style\n",
              "- Estimators will overwrite some part of the style using the `sk-estimator` class\n",
              "*/\n",
              "\n",
              "/* Pipeline and ColumnTransformer style (default) */\n",
              "\n",
              "#sk-container-id-1 div.sk-toggleable {\n",
              "  /* Default theme specific background. It is overwritten whether we have a\n",
              "  specific estimator or a Pipeline/ColumnTransformer */\n",
              "  background-color: var(--sklearn-color-background);\n",
              "}\n",
              "\n",
              "/* Toggleable label */\n",
              "#sk-container-id-1 label.sk-toggleable__label {\n",
              "  cursor: pointer;\n",
              "  display: block;\n",
              "  width: 100%;\n",
              "  margin-bottom: 0;\n",
              "  padding: 0.5em;\n",
              "  box-sizing: border-box;\n",
              "  text-align: center;\n",
              "}\n",
              "\n",
              "#sk-container-id-1 label.sk-toggleable__label-arrow:before {\n",
              "  /* Arrow on the left of the label */\n",
              "  content: \"▸\";\n",
              "  float: left;\n",
              "  margin-right: 0.25em;\n",
              "  color: var(--sklearn-color-icon);\n",
              "}\n",
              "\n",
              "#sk-container-id-1 label.sk-toggleable__label-arrow:hover:before {\n",
              "  color: var(--sklearn-color-text);\n",
              "}\n",
              "\n",
              "/* Toggleable content - dropdown */\n",
              "\n",
              "#sk-container-id-1 div.sk-toggleable__content {\n",
              "  max-height: 0;\n",
              "  max-width: 0;\n",
              "  overflow: hidden;\n",
              "  text-align: left;\n",
              "  /* unfitted */\n",
              "  background-color: var(--sklearn-color-unfitted-level-0);\n",
              "}\n",
              "\n",
              "#sk-container-id-1 div.sk-toggleable__content.fitted {\n",
              "  /* fitted */\n",
              "  background-color: var(--sklearn-color-fitted-level-0);\n",
              "}\n",
              "\n",
              "#sk-container-id-1 div.sk-toggleable__content pre {\n",
              "  margin: 0.2em;\n",
              "  border-radius: 0.25em;\n",
              "  color: var(--sklearn-color-text);\n",
              "  /* unfitted */\n",
              "  background-color: var(--sklearn-color-unfitted-level-0);\n",
              "}\n",
              "\n",
              "#sk-container-id-1 div.sk-toggleable__content.fitted pre {\n",
              "  /* unfitted */\n",
              "  background-color: var(--sklearn-color-fitted-level-0);\n",
              "}\n",
              "\n",
              "#sk-container-id-1 input.sk-toggleable__control:checked~div.sk-toggleable__content {\n",
              "  /* Expand drop-down */\n",
              "  max-height: 200px;\n",
              "  max-width: 100%;\n",
              "  overflow: auto;\n",
              "}\n",
              "\n",
              "#sk-container-id-1 input.sk-toggleable__control:checked~label.sk-toggleable__label-arrow:before {\n",
              "  content: \"▾\";\n",
              "}\n",
              "\n",
              "/* Pipeline/ColumnTransformer-specific style */\n",
              "\n",
              "#sk-container-id-1 div.sk-label input.sk-toggleable__control:checked~label.sk-toggleable__label {\n",
              "  color: var(--sklearn-color-text);\n",
              "  background-color: var(--sklearn-color-unfitted-level-2);\n",
              "}\n",
              "\n",
              "#sk-container-id-1 div.sk-label.fitted input.sk-toggleable__control:checked~label.sk-toggleable__label {\n",
              "  background-color: var(--sklearn-color-fitted-level-2);\n",
              "}\n",
              "\n",
              "/* Estimator-specific style */\n",
              "\n",
              "/* Colorize estimator box */\n",
              "#sk-container-id-1 div.sk-estimator input.sk-toggleable__control:checked~label.sk-toggleable__label {\n",
              "  /* unfitted */\n",
              "  background-color: var(--sklearn-color-unfitted-level-2);\n",
              "}\n",
              "\n",
              "#sk-container-id-1 div.sk-estimator.fitted input.sk-toggleable__control:checked~label.sk-toggleable__label {\n",
              "  /* fitted */\n",
              "  background-color: var(--sklearn-color-fitted-level-2);\n",
              "}\n",
              "\n",
              "#sk-container-id-1 div.sk-label label.sk-toggleable__label,\n",
              "#sk-container-id-1 div.sk-label label {\n",
              "  /* The background is the default theme color */\n",
              "  color: var(--sklearn-color-text-on-default-background);\n",
              "}\n",
              "\n",
              "/* On hover, darken the color of the background */\n",
              "#sk-container-id-1 div.sk-label:hover label.sk-toggleable__label {\n",
              "  color: var(--sklearn-color-text);\n",
              "  background-color: var(--sklearn-color-unfitted-level-2);\n",
              "}\n",
              "\n",
              "/* Label box, darken color on hover, fitted */\n",
              "#sk-container-id-1 div.sk-label.fitted:hover label.sk-toggleable__label.fitted {\n",
              "  color: var(--sklearn-color-text);\n",
              "  background-color: var(--sklearn-color-fitted-level-2);\n",
              "}\n",
              "\n",
              "/* Estimator label */\n",
              "\n",
              "#sk-container-id-1 div.sk-label label {\n",
              "  font-family: monospace;\n",
              "  font-weight: bold;\n",
              "  display: inline-block;\n",
              "  line-height: 1.2em;\n",
              "}\n",
              "\n",
              "#sk-container-id-1 div.sk-label-container {\n",
              "  text-align: center;\n",
              "}\n",
              "\n",
              "/* Estimator-specific */\n",
              "#sk-container-id-1 div.sk-estimator {\n",
              "  font-family: monospace;\n",
              "  border: 1px dotted var(--sklearn-color-border-box);\n",
              "  border-radius: 0.25em;\n",
              "  box-sizing: border-box;\n",
              "  margin-bottom: 0.5em;\n",
              "  /* unfitted */\n",
              "  background-color: var(--sklearn-color-unfitted-level-0);\n",
              "}\n",
              "\n",
              "#sk-container-id-1 div.sk-estimator.fitted {\n",
              "  /* fitted */\n",
              "  background-color: var(--sklearn-color-fitted-level-0);\n",
              "}\n",
              "\n",
              "/* on hover */\n",
              "#sk-container-id-1 div.sk-estimator:hover {\n",
              "  /* unfitted */\n",
              "  background-color: var(--sklearn-color-unfitted-level-2);\n",
              "}\n",
              "\n",
              "#sk-container-id-1 div.sk-estimator.fitted:hover {\n",
              "  /* fitted */\n",
              "  background-color: var(--sklearn-color-fitted-level-2);\n",
              "}\n",
              "\n",
              "/* Specification for estimator info (e.g. \"i\" and \"?\") */\n",
              "\n",
              "/* Common style for \"i\" and \"?\" */\n",
              "\n",
              ".sk-estimator-doc-link,\n",
              "a:link.sk-estimator-doc-link,\n",
              "a:visited.sk-estimator-doc-link {\n",
              "  float: right;\n",
              "  font-size: smaller;\n",
              "  line-height: 1em;\n",
              "  font-family: monospace;\n",
              "  background-color: var(--sklearn-color-background);\n",
              "  border-radius: 1em;\n",
              "  height: 1em;\n",
              "  width: 1em;\n",
              "  text-decoration: none !important;\n",
              "  margin-left: 1ex;\n",
              "  /* unfitted */\n",
              "  border: var(--sklearn-color-unfitted-level-1) 1pt solid;\n",
              "  color: var(--sklearn-color-unfitted-level-1);\n",
              "}\n",
              "\n",
              ".sk-estimator-doc-link.fitted,\n",
              "a:link.sk-estimator-doc-link.fitted,\n",
              "a:visited.sk-estimator-doc-link.fitted {\n",
              "  /* fitted */\n",
              "  border: var(--sklearn-color-fitted-level-1) 1pt solid;\n",
              "  color: var(--sklearn-color-fitted-level-1);\n",
              "}\n",
              "\n",
              "/* On hover */\n",
              "div.sk-estimator:hover .sk-estimator-doc-link:hover,\n",
              ".sk-estimator-doc-link:hover,\n",
              "div.sk-label-container:hover .sk-estimator-doc-link:hover,\n",
              ".sk-estimator-doc-link:hover {\n",
              "  /* unfitted */\n",
              "  background-color: var(--sklearn-color-unfitted-level-3);\n",
              "  color: var(--sklearn-color-background);\n",
              "  text-decoration: none;\n",
              "}\n",
              "\n",
              "div.sk-estimator.fitted:hover .sk-estimator-doc-link.fitted:hover,\n",
              ".sk-estimator-doc-link.fitted:hover,\n",
              "div.sk-label-container:hover .sk-estimator-doc-link.fitted:hover,\n",
              ".sk-estimator-doc-link.fitted:hover {\n",
              "  /* fitted */\n",
              "  background-color: var(--sklearn-color-fitted-level-3);\n",
              "  color: var(--sklearn-color-background);\n",
              "  text-decoration: none;\n",
              "}\n",
              "\n",
              "/* Span, style for the box shown on hovering the info icon */\n",
              ".sk-estimator-doc-link span {\n",
              "  display: none;\n",
              "  z-index: 9999;\n",
              "  position: relative;\n",
              "  font-weight: normal;\n",
              "  right: .2ex;\n",
              "  padding: .5ex;\n",
              "  margin: .5ex;\n",
              "  width: min-content;\n",
              "  min-width: 20ex;\n",
              "  max-width: 50ex;\n",
              "  color: var(--sklearn-color-text);\n",
              "  box-shadow: 2pt 2pt 4pt #999;\n",
              "  /* unfitted */\n",
              "  background: var(--sklearn-color-unfitted-level-0);\n",
              "  border: .5pt solid var(--sklearn-color-unfitted-level-3);\n",
              "}\n",
              "\n",
              ".sk-estimator-doc-link.fitted span {\n",
              "  /* fitted */\n",
              "  background: var(--sklearn-color-fitted-level-0);\n",
              "  border: var(--sklearn-color-fitted-level-3);\n",
              "}\n",
              "\n",
              ".sk-estimator-doc-link:hover span {\n",
              "  display: block;\n",
              "}\n",
              "\n",
              "/* \"?\"-specific style due to the `<a>` HTML tag */\n",
              "\n",
              "#sk-container-id-1 a.estimator_doc_link {\n",
              "  float: right;\n",
              "  font-size: 1rem;\n",
              "  line-height: 1em;\n",
              "  font-family: monospace;\n",
              "  background-color: var(--sklearn-color-background);\n",
              "  border-radius: 1rem;\n",
              "  height: 1rem;\n",
              "  width: 1rem;\n",
              "  text-decoration: none;\n",
              "  /* unfitted */\n",
              "  color: var(--sklearn-color-unfitted-level-1);\n",
              "  border: var(--sklearn-color-unfitted-level-1) 1pt solid;\n",
              "}\n",
              "\n",
              "#sk-container-id-1 a.estimator_doc_link.fitted {\n",
              "  /* fitted */\n",
              "  border: var(--sklearn-color-fitted-level-1) 1pt solid;\n",
              "  color: var(--sklearn-color-fitted-level-1);\n",
              "}\n",
              "\n",
              "/* On hover */\n",
              "#sk-container-id-1 a.estimator_doc_link:hover {\n",
              "  /* unfitted */\n",
              "  background-color: var(--sklearn-color-unfitted-level-3);\n",
              "  color: var(--sklearn-color-background);\n",
              "  text-decoration: none;\n",
              "}\n",
              "\n",
              "#sk-container-id-1 a.estimator_doc_link.fitted:hover {\n",
              "  /* fitted */\n",
              "  background-color: var(--sklearn-color-fitted-level-3);\n",
              "}\n",
              "</style><div id=\"sk-container-id-1\" class=\"sk-top-container\"><div class=\"sk-text-repr-fallback\"><pre>LogisticRegression(random_state=0)</pre><b>In a Jupyter environment, please rerun this cell to show the HTML representation or trust the notebook. <br />On GitHub, the HTML representation is unable to render, please try loading this page with nbviewer.org.</b></div><div class=\"sk-container\" hidden><div class=\"sk-item\"><div class=\"sk-estimator fitted sk-toggleable\"><input class=\"sk-toggleable__control sk-hidden--visually\" id=\"sk-estimator-id-1\" type=\"checkbox\" checked><label for=\"sk-estimator-id-1\" class=\"sk-toggleable__label fitted sk-toggleable__label-arrow fitted\">&nbsp;&nbsp;LogisticRegression<a class=\"sk-estimator-doc-link fitted\" rel=\"noreferrer\" target=\"_blank\" href=\"https://scikit-learn.org/1.5/modules/generated/sklearn.linear_model.LogisticRegression.html\">?<span>Documentation for LogisticRegression</span></a><span class=\"sk-estimator-doc-link fitted\">i<span>Fitted</span></span></label><div class=\"sk-toggleable__content fitted\"><pre>LogisticRegression(random_state=0)</pre></div> </div></div></div></div>"
            ]
          },
          "metadata": {},
          "execution_count": 9
        }
      ],
      "source": [
        "from sklearn.linear_model import LogisticRegression\n",
        "classifier = LogisticRegression(random_state = 0)\n",
        "classifier.fit(x_train, y_train)"
      ]
    },
    {
      "cell_type": "markdown",
      "id": "8c002780",
      "metadata": {
        "id": "8c002780",
        "papermill": {
          "duration": 0.005316,
          "end_time": "2024-10-07T16:35:42.932708",
          "exception": false,
          "start_time": "2024-10-07T16:35:42.927392",
          "status": "completed"
        },
        "tags": []
      },
      "source": [
        "# Predicting the data"
      ]
    },
    {
      "cell_type": "code",
      "execution_count": null,
      "id": "e9808bae",
      "metadata": {
        "execution": {
          "iopub.execute_input": "2024-10-07T16:35:42.945038Z",
          "iopub.status.busy": "2024-10-07T16:35:42.944627Z",
          "iopub.status.idle": "2024-10-07T16:35:43.017869Z",
          "shell.execute_reply": "2024-10-07T16:35:43.016841Z"
        },
        "id": "e9808bae",
        "outputId": "6a267b04-a35a-4d57-a9be-5b777ee09d39",
        "papermill": {
          "duration": 0.082194,
          "end_time": "2024-10-07T16:35:43.020188",
          "exception": false,
          "start_time": "2024-10-07T16:35:42.937994",
          "status": "completed"
        },
        "tags": [],
        "colab": {
          "base_uri": "https://localhost:8080/"
        }
      },
      "outputs": [
        {
          "output_type": "stream",
          "name": "stdout",
          "text": [
            "[[' documentary ' ' news ']\n",
            " [' drama ' ' adventure ']\n",
            " [' documentary ' ' short ']\n",
            " ...\n",
            " [' drama ' ' comedy ']\n",
            " [' comedy ' ' thriller ']\n",
            " [' drama ' ' romance ']]\n"
          ]
        }
      ],
      "source": [
        "y_pred=classifier.predict(x_test)\n",
        "print(np.concatenate((y_pred.reshape(len(y_pred),1),y_test.reshape(len(y_test),1)),1))"
      ]
    },
    {
      "cell_type": "code",
      "execution_count": null,
      "id": "69472253",
      "metadata": {
        "execution": {
          "iopub.execute_input": "2024-10-07T16:35:43.032740Z",
          "iopub.status.busy": "2024-10-07T16:35:43.032328Z",
          "iopub.status.idle": "2024-10-07T16:35:43.393247Z",
          "shell.execute_reply": "2024-10-07T16:35:43.392018Z"
        },
        "id": "69472253",
        "outputId": "d09ac8c2-1a32-41ec-a25c-326906366a98",
        "papermill": {
          "duration": 0.370019,
          "end_time": "2024-10-07T16:35:43.395727",
          "exception": false,
          "start_time": "2024-10-07T16:35:43.025708",
          "status": "completed"
        },
        "tags": [],
        "colab": {
          "base_uri": "https://localhost:8080/"
        }
      },
      "outputs": [
        {
          "output_type": "stream",
          "name": "stdout",
          "text": [
            "               precision    recall  f1-score   support\n",
            "\n",
            "      action        0.00      0.00      0.00         0\n",
            "       adult        0.00      0.00      0.00         0\n",
            "   adventure        0.00      0.00      0.00         0\n",
            "   animation        0.00      0.00      0.00         0\n",
            "   biography        0.00      0.00      0.00         0\n",
            "      comedy        0.21      0.54      0.30        41\n",
            "       crime        0.00      0.00      0.00         0\n",
            " documentary        0.86      0.45      0.59       273\n",
            "       drama        0.78      0.36      0.49       320\n",
            "      family        0.00      0.00      0.00         0\n",
            "     fantasy        0.00      0.00      0.00         0\n",
            "   game-show        0.00      0.00      0.00         0\n",
            "     history        0.00      0.00      0.00         0\n",
            "      horror        0.00      0.00      0.00         0\n",
            "       music        0.00      0.00      0.00         0\n",
            "     musical        0.00      0.00      0.00         0\n",
            "     mystery        0.00      0.00      0.00         0\n",
            "        news        0.00      0.00      0.00         0\n",
            "  reality-tv        0.00      0.00      0.00         0\n",
            "     romance        0.00      0.00      0.00         0\n",
            "      sci-fi        0.00      0.00      0.00         0\n",
            "       short        0.03      1.00      0.06         2\n",
            "       sport        0.00      0.00      0.00         0\n",
            "   talk-show        0.00      0.00      0.00         0\n",
            "    thriller        0.00      0.00      0.00         0\n",
            "     western        0.00      0.00      0.00         0\n",
            "\n",
            "     accuracy                           0.41       636\n",
            "    macro avg       0.07      0.09      0.06       636\n",
            " weighted avg       0.77      0.41      0.52       636\n",
            "\n"
          ]
        },
        {
          "output_type": "execute_result",
          "data": {
            "text/plain": [
              "0.4119496855345912"
            ]
          },
          "metadata": {},
          "execution_count": 11
        }
      ],
      "source": [
        "from sklearn.metrics import confusion_matrix, accuracy_score,classification_report\n",
        "print(classification_report(y_pred, y_test,zero_division=0))\n",
        "accuracy_score(y_test, y_pred)"
      ]
    },
    {
      "cell_type": "code",
      "source": [
        "import pandas as pd\n",
        "from sklearn.model_selection import train_test_split\n",
        "from sklearn.feature_extraction.text import TfidfVectorizer\n",
        "from sklearn.linear_model import LogisticRegression\n",
        "from sklearn.metrics import classification_report, accuracy_score\n",
        "\n",
        "# Define file path\n",
        "file_path = '/content/train_data.txt'\n",
        "\n",
        "try:\n",
        "    # Load raw data from file\n",
        "    with open(file_path, 'r') as file:\n",
        "        raw_data = file.readlines()\n",
        "\n",
        "    # Separate training and test data\n",
        "    train_data = []\n",
        "    test_data = []\n",
        "    in_train_section = True  # Start with training data\n",
        "    for line in raw_data:\n",
        "        line = line.strip()\n",
        "        if line.lower().startswith(\"test data:\"):\n",
        "            in_train_section = False\n",
        "            continue\n",
        "        if line and not line.startswith(\"ID\"):  # Skip headers\n",
        "            if in_train_section:\n",
        "                train_data.append(line)\n",
        "            else:\n",
        "                test_data.append(line)\n",
        "\n",
        "    # Process training data\n",
        "    train_split = [item.strip().split(' ::: ') for item in train_data if ' ::: ' in item]\n",
        "    print(\"Sample Parsed Train Rows (First 5):\", train_split[:5])  # Debugging step\n",
        "\n",
        "    # Ensure rows have the correct number of parts\n",
        "    train_split = [row for row in train_split if len(row) == 4]\n",
        "    train_df = pd.DataFrame(train_split, columns=['ID', 'Title', 'Genre', 'Description'])\n",
        "\n",
        "    # Validate training data structure\n",
        "    if train_df.empty or 'Genre' not in train_df.columns or 'Description' not in train_df.columns:\n",
        "        raise ValueError(\"Training data is missing required columns ('Genre', 'Description').\")\n",
        "\n",
        "    # Process test data (optional)\n",
        "    test_split = [item.strip().split(' ::: ') for item in test_data if ' ::: ' in item]\n",
        "    test_df = pd.DataFrame(test_split, columns=['ID', 'Title', 'Description']) if test_split else pd.DataFrame()\n",
        "\n",
        "except Exception as e:\n",
        "    print(f\"Error processing the file: {e}\")\n",
        "    raise\n",
        "\n",
        "# Features and labels for training\n",
        "X = train_df['Description']\n",
        "y = train_df['Genre']\n",
        "\n",
        "# Split training data into train and validation sets\n",
        "X_train, X_val, y_train, y_val = train_test_split(X, y, test_size=0.2, random_state=42)\n",
        "\n",
        "# Vectorize text data using TfidfVectorizer\n",
        "vectorizer = TfidfVectorizer(stop_words='english', max_features=1000)\n",
        "X_train_tfidf = vectorizer.fit_transform(X_train)\n",
        "X_val_tfidf = vectorizer.transform(X_val)\n",
        "\n",
        "# Initialize and train a Logistic Regression model\n",
        "log_reg = LogisticRegression(max_iter=200)\n",
        "log_reg.fit(X_train_tfidf, y_train)\n",
        "\n",
        "# Make predictions on validation data\n",
        "y_pred = log_reg.predict(X_val_tfidf)\n",
        "\n",
        "# Evaluate the model\n",
        "accuracy = accuracy_score(y_val, y_pred)\n",
        "print(f'Validation Accuracy: {accuracy:.4f}')\n",
        "print('Classification Report:')\n",
        "print(classification_report(y_val, y_pred))\n",
        "\n",
        "# Optional: Predict on test data if available\n",
        "if not test_df.empty:\n",
        "    test_descriptions = test_df['Description']\n",
        "    test_tfidf = vectorizer.transform(test_descriptions)\n",
        "    test_predictions = log_reg.predict(test_tfidf)\n",
        "\n",
        "    # Display test data predictions\n",
        "    output = pd.DataFrame({\n",
        "        'Test Description': test_descriptions,\n",
        "        'Predicted Genres': test_predictions\n",
        "    })\n",
        "    print(\"Predictions on Test Data:\")\n",
        "    print(output.head())\n"
      ],
      "metadata": {
        "id": "b-RPpzsF03vT",
        "colab": {
          "base_uri": "https://localhost:8080/"
        },
        "outputId": "4c21f383-f491-4540-864f-24a51686a9b6"
      },
      "id": "b-RPpzsF03vT",
      "execution_count": null,
      "outputs": [
        {
          "output_type": "stream",
          "name": "stdout",
          "text": [
            "Sample Parsed Train Rows (First 5): [['1', 'Oscar et la dame rose (2009)', 'drama', 'Listening in to a conversation between his doctor and parents, 10-year-old Oscar learns what nobody has the courage to tell him. He only has a few weeks to live. Furious, he refuses to speak to anyone except straight-talking Rose, the lady in pink he meets on the hospital stairs. As Christmas approaches, Rose uses her fantastical experiences as a professional wrestler, her imagination, wit and charm to allow Oscar to live life and love to the full, in the company of his friends Pop Corn, Einstein, Bacon and childhood sweetheart Peggy Blue.'], ['2', 'Cupid (1997)', 'thriller', 'A brother and sister with a past incestuous relationship have a current murderous relationship. He murders the women who reject him and she murders the women who get too close to him.'], ['3', 'Young, Wild and Wonderful (1980)', 'adult', 'As the bus empties the students for their field trip to the Museum of Natural History, little does the tour guide suspect that the students are there for more than just another tour. First, during the lecture films, the coeds drift into dreams of the most erotic fantasies one can imagine. After the films, they release the emotion of the fantasies in the most erotic and uncommon ways. One slips off to the curator\\'s office for a little \"acquisition. \" Another finds the anthropologist to see what bones can be identified. Even the head teacher isn\\'t immune. Soon the tour is over, but as the bus departs, everyone admits it was quite an education.'], ['4', 'The Secret Sin (1915)', 'drama', \"To help their unemployed father make ends meet, Edith and her twin sister Grace work as seamstresses . An invalid, Grace falls prey to the temptations of Chinatown opium and becomes an addict, a condition worsened by a misguided physician who prescribes morphine to ease her pain. When their father strikes oil, the family enjoys a new prosperity and the sisters meet the eligible Jack Herron, a fellow oil prospector. To Grace's shock, Jack falls in love with Edith and in her jealousy, Grace tells Jack that Edith, not she, has a drug problem. Hinting that her sister will soon need more morphine, Grace arranges for a dinner in Chinatown with the couple. While her sister and Jack dance, Grace slips away to an opium den. Edith follows her, but ends up in the wrong den and is arrested in an ensuing drug raid. After he bails her out of jail, Edith takes an angry Jack to search for Grace and stumbles across her half-conscious body lying in the street. The truth about the sisters is revealed, and after sending Grace to a sanitarium in the country, Jack and Edith are married.\"], ['5', 'The Unrecovered (2007)', 'drama', \"The film's title refers not only to the un-recovered bodies at ground zero, but also to the state of the nation at large. Set in the hallucinatory period of time between September 11 and Halloween of 2001, The Unrecovered examines the effect of terror on the average mind, the way a state of heightened anxiety and/or alertness can cause the average person to make the sort of imaginative connections that are normally made only by artists and conspiracy theorists-both of whom figure prominently in this film. The Unrecovered explores the way in which irony, empathy, and paranoia relate to one another in the wake of 9/11.\"]]\n",
            "Validation Accuracy: 0.5438\n",
            "Classification Report:\n"
          ]
        },
        {
          "output_type": "stream",
          "name": "stderr",
          "text": [
            "/usr/local/lib/python3.10/dist-packages/sklearn/metrics/_classification.py:1531: UndefinedMetricWarning: Precision is ill-defined and being set to 0.0 in labels with no predicted samples. Use `zero_division` parameter to control this behavior.\n",
            "  _warn_prf(average, modifier, f\"{metric.capitalize()} is\", len(result))\n"
          ]
        },
        {
          "output_type": "stream",
          "name": "stdout",
          "text": [
            "              precision    recall  f1-score   support\n",
            "\n",
            "      action       0.36      0.18      0.24       263\n",
            "       adult       0.60      0.19      0.29       112\n",
            "   adventure       0.29      0.09      0.14       139\n",
            "   animation       0.38      0.06      0.10       104\n",
            "   biography       0.00      0.00      0.00        61\n",
            "      comedy       0.45      0.51      0.48      1443\n",
            "       crime       0.25      0.05      0.08       107\n",
            " documentary       0.65      0.82      0.73      2659\n",
            "       drama       0.52      0.74      0.61      2697\n",
            "      family       0.40      0.11      0.17       150\n",
            "     fantasy       0.00      0.00      0.00        74\n",
            "   game-show       0.86      0.30      0.44        40\n",
            "     history       0.00      0.00      0.00        45\n",
            "      horror       0.56      0.51      0.53       431\n",
            "       music       0.56      0.41      0.47       144\n",
            "     musical       0.60      0.06      0.11        50\n",
            "     mystery       0.40      0.04      0.07        56\n",
            "        news       0.50      0.03      0.06        34\n",
            "  reality-tv       0.49      0.21      0.30       192\n",
            "     romance       0.07      0.01      0.01       151\n",
            "      sci-fi       0.48      0.20      0.29       143\n",
            "       short       0.43      0.31      0.36      1045\n",
            "       sport       0.62      0.17      0.27        93\n",
            "   talk-show       0.38      0.10      0.16        81\n",
            "    thriller       0.32      0.11      0.17       309\n",
            "         war       1.00      0.05      0.10        20\n",
            "     western       0.81      0.68      0.74       200\n",
            "\n",
            "    accuracy                           0.54     10843\n",
            "   macro avg       0.44      0.22      0.26     10843\n",
            "weighted avg       0.51      0.54      0.50     10843\n",
            "\n"
          ]
        },
        {
          "output_type": "stream",
          "name": "stderr",
          "text": [
            "/usr/local/lib/python3.10/dist-packages/sklearn/metrics/_classification.py:1531: UndefinedMetricWarning: Precision is ill-defined and being set to 0.0 in labels with no predicted samples. Use `zero_division` parameter to control this behavior.\n",
            "  _warn_prf(average, modifier, f\"{metric.capitalize()} is\", len(result))\n",
            "/usr/local/lib/python3.10/dist-packages/sklearn/metrics/_classification.py:1531: UndefinedMetricWarning: Precision is ill-defined and being set to 0.0 in labels with no predicted samples. Use `zero_division` parameter to control this behavior.\n",
            "  _warn_prf(average, modifier, f\"{metric.capitalize()} is\", len(result))\n"
          ]
        }
      ]
    },
    {
      "cell_type": "code",
      "source": [],
      "metadata": {
        "id": "R9LGk1r_6zfB"
      },
      "id": "R9LGk1r_6zfB",
      "execution_count": null,
      "outputs": []
    }
  ],
  "metadata": {
    "colab": {
      "provenance": []
    },
    "kaggle": {
      "accelerator": "none",
      "dataSources": [
        {
          "datasetId": 1417162,
          "sourceId": 2347441,
          "sourceType": "datasetVersion"
        }
      ],
      "dockerImageVersionId": 30786,
      "isGpuEnabled": false,
      "isInternetEnabled": true,
      "language": "python",
      "sourceType": "notebook"
    },
    "kernelspec": {
      "display_name": "Python 3",
      "language": "python",
      "name": "python3"
    },
    "language_info": {
      "codemirror_mode": {
        "name": "ipython",
        "version": 3
      },
      "file_extension": ".py",
      "mimetype": "text/x-python",
      "name": "python",
      "nbconvert_exporter": "python",
      "pygments_lexer": "ipython3",
      "version": "3.10.14"
    },
    "papermill": {
      "default_parameters": {},
      "duration": 94.891939,
      "end_time": "2024-10-07T16:35:44.023539",
      "environment_variables": {},
      "exception": null,
      "input_path": "__notebook__.ipynb",
      "output_path": "__notebook__.ipynb",
      "parameters": {},
      "start_time": "2024-10-07T16:34:09.131600",
      "version": "2.6.0"
    }
  },
  "nbformat": 4,
  "nbformat_minor": 5
}